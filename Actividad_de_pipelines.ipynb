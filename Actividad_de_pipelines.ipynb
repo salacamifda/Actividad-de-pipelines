{
  "nbformat": 4,
  "nbformat_minor": 0,
  "metadata": {
    "colab": {
      "provenance": [],
      "authorship_tag": "ABX9TyMQ57BPRZexIDvG1413Pa5h",
      "include_colab_link": true
    },
    "kernelspec": {
      "name": "python3",
      "display_name": "Python 3"
    },
    "language_info": {
      "name": "python"
    }
  },
  "cells": [
    {
      "cell_type": "markdown",
      "metadata": {
        "id": "view-in-github",
        "colab_type": "text"
      },
      "source": [
        "<a href=\"https://colab.research.google.com/github/salacamifda/Actividad-de-pipelines/blob/main/Actividad_de_pipelines.ipynb\" target=\"_parent\"><img src=\"https://colab.research.google.com/assets/colab-badge.svg\" alt=\"Open In Colab\"/></a>"
      ]
    },
    {
      "cell_type": "code",
      "execution_count": 23,
      "metadata": {
        "id": "ztGXr2bX8UmL"
      },
      "outputs": [],
      "source": [
        "# Imports\n",
        "import pandas as pd\n",
        "import numpy as np\n",
        "from sklearn.pipeline import make_pipeline\n",
        "from sklearn.impute import SimpleImputer\n",
        "from sklearn.model_selection import train_test_split\n",
        "from sklearn.compose import make_column_transformer, make_column_selector\n",
        "from sklearn import set_config\n",
        "from sklearn.preprocessing import StandardScaler, OneHotEncoder, OrdinalEncoder\n",
        "set_config(display='diagram')\n"
      ]
    },
    {
      "cell_type": "code",
      "source": [
        "path = '/content/Cereal with missing values.xlsx'\n",
        "df = pd.read_excel(path)\n",
        "df.head()\n"
      ],
      "metadata": {
        "colab": {
          "base_uri": "https://localhost:8080/",
          "height": 372
        },
        "id": "7tPkj5-c9j8V",
        "outputId": "85ac1757-64c0-45e4-e4ec-a954d5d0658b"
      },
      "execution_count": 11,
      "outputs": [
        {
          "output_type": "execute_result",
          "data": {
            "text/plain": [
              "                      name   Manufacturer  type  calories per serving  \\\n",
              "0  Apple Cinnamon Cheerios  General Mills  Cold                 110.0   \n",
              "1                  Basic 4  General Mills  Cold                 130.0   \n",
              "2                 Cheerios  General Mills  Cold                   NaN   \n",
              "3    Cinnamon Toast Crunch  General Mills  Cold                 120.0   \n",
              "4                 Clusters  General Mills  Cold                 110.0   \n",
              "\n",
              "   grams of protein  grams of fat  milligrams of sodium  \\\n",
              "0               2.0           2.0                 180.0   \n",
              "1               3.0           2.0                   NaN   \n",
              "2               6.0           2.0                 290.0   \n",
              "3               1.0           3.0                 210.0   \n",
              "4               3.0           2.0                 140.0   \n",
              "\n",
              "   grams of dietary fiber  grams of complex carbohydrates  grams of sugars  \\\n",
              "0                     1.5                            10.5             10.0   \n",
              "1                     2.0                            18.0              NaN   \n",
              "2                     2.0                            17.0              1.0   \n",
              "3                     0.0                            13.0              9.0   \n",
              "4                     2.0                            13.0              7.0   \n",
              "\n",
              "   milligrams of potassium  vitamins and minerals (% of FDA recommendation)  \\\n",
              "0                     70.0                                             25.0   \n",
              "1                    100.0                                             25.0   \n",
              "2                    105.0                                             25.0   \n",
              "3                     45.0                                             25.0   \n",
              "4                    105.0                                             25.0   \n",
              "\n",
              "   Display shelf  Weight in ounces per one serving  \\\n",
              "0            1.0                              1.00   \n",
              "1            3.0                              1.33   \n",
              "2            1.0                              1.00   \n",
              "3            2.0                              1.00   \n",
              "4            3.0                              1.00   \n",
              "\n",
              "   Number of cups in one serving  Rating of cereal  \n",
              "0                           0.75         29.509541  \n",
              "1                           0.75         37.038562  \n",
              "2                           1.25         50.764999  \n",
              "3                           0.75         19.823573  \n",
              "4                           0.50         40.400208  "
            ],
            "text/html": [
              "\n",
              "  <div id=\"df-690a1216-7b11-438f-847e-206c08befdfa\">\n",
              "    <div class=\"colab-df-container\">\n",
              "      <div>\n",
              "<style scoped>\n",
              "    .dataframe tbody tr th:only-of-type {\n",
              "        vertical-align: middle;\n",
              "    }\n",
              "\n",
              "    .dataframe tbody tr th {\n",
              "        vertical-align: top;\n",
              "    }\n",
              "\n",
              "    .dataframe thead th {\n",
              "        text-align: right;\n",
              "    }\n",
              "</style>\n",
              "<table border=\"1\" class=\"dataframe\">\n",
              "  <thead>\n",
              "    <tr style=\"text-align: right;\">\n",
              "      <th></th>\n",
              "      <th>name</th>\n",
              "      <th>Manufacturer</th>\n",
              "      <th>type</th>\n",
              "      <th>calories per serving</th>\n",
              "      <th>grams of protein</th>\n",
              "      <th>grams of fat</th>\n",
              "      <th>milligrams of sodium</th>\n",
              "      <th>grams of dietary fiber</th>\n",
              "      <th>grams of complex carbohydrates</th>\n",
              "      <th>grams of sugars</th>\n",
              "      <th>milligrams of potassium</th>\n",
              "      <th>vitamins and minerals (% of FDA recommendation)</th>\n",
              "      <th>Display shelf</th>\n",
              "      <th>Weight in ounces per one serving</th>\n",
              "      <th>Number of cups in one serving</th>\n",
              "      <th>Rating of cereal</th>\n",
              "    </tr>\n",
              "  </thead>\n",
              "  <tbody>\n",
              "    <tr>\n",
              "      <th>0</th>\n",
              "      <td>Apple Cinnamon Cheerios</td>\n",
              "      <td>General Mills</td>\n",
              "      <td>Cold</td>\n",
              "      <td>110.0</td>\n",
              "      <td>2.0</td>\n",
              "      <td>2.0</td>\n",
              "      <td>180.0</td>\n",
              "      <td>1.5</td>\n",
              "      <td>10.5</td>\n",
              "      <td>10.0</td>\n",
              "      <td>70.0</td>\n",
              "      <td>25.0</td>\n",
              "      <td>1.0</td>\n",
              "      <td>1.00</td>\n",
              "      <td>0.75</td>\n",
              "      <td>29.509541</td>\n",
              "    </tr>\n",
              "    <tr>\n",
              "      <th>1</th>\n",
              "      <td>Basic 4</td>\n",
              "      <td>General Mills</td>\n",
              "      <td>Cold</td>\n",
              "      <td>130.0</td>\n",
              "      <td>3.0</td>\n",
              "      <td>2.0</td>\n",
              "      <td>NaN</td>\n",
              "      <td>2.0</td>\n",
              "      <td>18.0</td>\n",
              "      <td>NaN</td>\n",
              "      <td>100.0</td>\n",
              "      <td>25.0</td>\n",
              "      <td>3.0</td>\n",
              "      <td>1.33</td>\n",
              "      <td>0.75</td>\n",
              "      <td>37.038562</td>\n",
              "    </tr>\n",
              "    <tr>\n",
              "      <th>2</th>\n",
              "      <td>Cheerios</td>\n",
              "      <td>General Mills</td>\n",
              "      <td>Cold</td>\n",
              "      <td>NaN</td>\n",
              "      <td>6.0</td>\n",
              "      <td>2.0</td>\n",
              "      <td>290.0</td>\n",
              "      <td>2.0</td>\n",
              "      <td>17.0</td>\n",
              "      <td>1.0</td>\n",
              "      <td>105.0</td>\n",
              "      <td>25.0</td>\n",
              "      <td>1.0</td>\n",
              "      <td>1.00</td>\n",
              "      <td>1.25</td>\n",
              "      <td>50.764999</td>\n",
              "    </tr>\n",
              "    <tr>\n",
              "      <th>3</th>\n",
              "      <td>Cinnamon Toast Crunch</td>\n",
              "      <td>General Mills</td>\n",
              "      <td>Cold</td>\n",
              "      <td>120.0</td>\n",
              "      <td>1.0</td>\n",
              "      <td>3.0</td>\n",
              "      <td>210.0</td>\n",
              "      <td>0.0</td>\n",
              "      <td>13.0</td>\n",
              "      <td>9.0</td>\n",
              "      <td>45.0</td>\n",
              "      <td>25.0</td>\n",
              "      <td>2.0</td>\n",
              "      <td>1.00</td>\n",
              "      <td>0.75</td>\n",
              "      <td>19.823573</td>\n",
              "    </tr>\n",
              "    <tr>\n",
              "      <th>4</th>\n",
              "      <td>Clusters</td>\n",
              "      <td>General Mills</td>\n",
              "      <td>Cold</td>\n",
              "      <td>110.0</td>\n",
              "      <td>3.0</td>\n",
              "      <td>2.0</td>\n",
              "      <td>140.0</td>\n",
              "      <td>2.0</td>\n",
              "      <td>13.0</td>\n",
              "      <td>7.0</td>\n",
              "      <td>105.0</td>\n",
              "      <td>25.0</td>\n",
              "      <td>3.0</td>\n",
              "      <td>1.00</td>\n",
              "      <td>0.50</td>\n",
              "      <td>40.400208</td>\n",
              "    </tr>\n",
              "  </tbody>\n",
              "</table>\n",
              "</div>\n",
              "      <button class=\"colab-df-convert\" onclick=\"convertToInteractive('df-690a1216-7b11-438f-847e-206c08befdfa')\"\n",
              "              title=\"Convert this dataframe to an interactive table.\"\n",
              "              style=\"display:none;\">\n",
              "        \n",
              "  <svg xmlns=\"http://www.w3.org/2000/svg\" height=\"24px\"viewBox=\"0 0 24 24\"\n",
              "       width=\"24px\">\n",
              "    <path d=\"M0 0h24v24H0V0z\" fill=\"none\"/>\n",
              "    <path d=\"M18.56 5.44l.94 2.06.94-2.06 2.06-.94-2.06-.94-.94-2.06-.94 2.06-2.06.94zm-11 1L8.5 8.5l.94-2.06 2.06-.94-2.06-.94L8.5 2.5l-.94 2.06-2.06.94zm10 10l.94 2.06.94-2.06 2.06-.94-2.06-.94-.94-2.06-.94 2.06-2.06.94z\"/><path d=\"M17.41 7.96l-1.37-1.37c-.4-.4-.92-.59-1.43-.59-.52 0-1.04.2-1.43.59L10.3 9.45l-7.72 7.72c-.78.78-.78 2.05 0 2.83L4 21.41c.39.39.9.59 1.41.59.51 0 1.02-.2 1.41-.59l7.78-7.78 2.81-2.81c.8-.78.8-2.07 0-2.86zM5.41 20L4 18.59l7.72-7.72 1.47 1.35L5.41 20z\"/>\n",
              "  </svg>\n",
              "      </button>\n",
              "      \n",
              "  <style>\n",
              "    .colab-df-container {\n",
              "      display:flex;\n",
              "      flex-wrap:wrap;\n",
              "      gap: 12px;\n",
              "    }\n",
              "\n",
              "    .colab-df-convert {\n",
              "      background-color: #E8F0FE;\n",
              "      border: none;\n",
              "      border-radius: 50%;\n",
              "      cursor: pointer;\n",
              "      display: none;\n",
              "      fill: #1967D2;\n",
              "      height: 32px;\n",
              "      padding: 0 0 0 0;\n",
              "      width: 32px;\n",
              "    }\n",
              "\n",
              "    .colab-df-convert:hover {\n",
              "      background-color: #E2EBFA;\n",
              "      box-shadow: 0px 1px 2px rgba(60, 64, 67, 0.3), 0px 1px 3px 1px rgba(60, 64, 67, 0.15);\n",
              "      fill: #174EA6;\n",
              "    }\n",
              "\n",
              "    [theme=dark] .colab-df-convert {\n",
              "      background-color: #3B4455;\n",
              "      fill: #D2E3FC;\n",
              "    }\n",
              "\n",
              "    [theme=dark] .colab-df-convert:hover {\n",
              "      background-color: #434B5C;\n",
              "      box-shadow: 0px 1px 3px 1px rgba(0, 0, 0, 0.15);\n",
              "      filter: drop-shadow(0px 1px 2px rgba(0, 0, 0, 0.3));\n",
              "      fill: #FFFFFF;\n",
              "    }\n",
              "  </style>\n",
              "\n",
              "      <script>\n",
              "        const buttonEl =\n",
              "          document.querySelector('#df-690a1216-7b11-438f-847e-206c08befdfa button.colab-df-convert');\n",
              "        buttonEl.style.display =\n",
              "          google.colab.kernel.accessAllowed ? 'block' : 'none';\n",
              "\n",
              "        async function convertToInteractive(key) {\n",
              "          const element = document.querySelector('#df-690a1216-7b11-438f-847e-206c08befdfa');\n",
              "          const dataTable =\n",
              "            await google.colab.kernel.invokeFunction('convertToInteractive',\n",
              "                                                     [key], {});\n",
              "          if (!dataTable) return;\n",
              "\n",
              "          const docLinkHtml = 'Like what you see? Visit the ' +\n",
              "            '<a target=\"_blank\" href=https://colab.research.google.com/notebooks/data_table.ipynb>data table notebook</a>'\n",
              "            + ' to learn more about interactive tables.';\n",
              "          element.innerHTML = '';\n",
              "          dataTable['output_type'] = 'display_data';\n",
              "          await google.colab.output.renderOutput(dataTable, element);\n",
              "          const docLink = document.createElement('div');\n",
              "          docLink.innerHTML = docLinkHtml;\n",
              "          element.appendChild(docLink);\n",
              "        }\n",
              "      </script>\n",
              "    </div>\n",
              "  </div>\n",
              "  "
            ]
          },
          "metadata": {},
          "execution_count": 11
        }
      ]
    },
    {
      "cell_type": "code",
      "source": [
        "#inspect the data\n",
        "print(df.info(), '\\n')\n",
        "print(df.isna().sum())\n"
      ],
      "metadata": {
        "colab": {
          "base_uri": "https://localhost:8080/"
        },
        "id": "4-0tQp4b933F",
        "outputId": "d1e85727-d1de-40b2-b446-edda34aa0787"
      },
      "execution_count": 12,
      "outputs": [
        {
          "output_type": "stream",
          "name": "stdout",
          "text": [
            "<class 'pandas.core.frame.DataFrame'>\n",
            "RangeIndex: 77 entries, 0 to 76\n",
            "Data columns (total 16 columns):\n",
            " #   Column                                           Non-Null Count  Dtype  \n",
            "---  ------                                           --------------  -----  \n",
            " 0   name                                             77 non-null     object \n",
            " 1   Manufacturer                                     77 non-null     object \n",
            " 2   type                                             68 non-null     object \n",
            " 3   calories per serving                             70 non-null     float64\n",
            " 4   grams of protein                                 77 non-null     float64\n",
            " 5   grams of fat                                     69 non-null     float64\n",
            " 6   milligrams of sodium                             76 non-null     float64\n",
            " 7   grams of dietary fiber                           77 non-null     float64\n",
            " 8   grams of complex carbohydrates                   77 non-null     float64\n",
            " 9   grams of sugars                                  68 non-null     float64\n",
            " 10  milligrams of potassium                          77 non-null     float64\n",
            " 11  vitamins and minerals (% of FDA recommendation)  76 non-null     float64\n",
            " 12  Display shelf                                    77 non-null     float64\n",
            " 13  Weight in ounces per one serving                 77 non-null     float64\n",
            " 14  Number of cups in one serving                    77 non-null     float64\n",
            " 15  Rating of cereal                                 77 non-null     float64\n",
            "dtypes: float64(13), object(3)\n",
            "memory usage: 9.8+ KB\n",
            "None \n",
            "\n",
            "name                                               0\n",
            "Manufacturer                                       0\n",
            "type                                               9\n",
            "calories per serving                               7\n",
            "grams of protein                                   0\n",
            "grams of fat                                       8\n",
            "milligrams of sodium                               1\n",
            "grams of dietary fiber                             0\n",
            "grams of complex carbohydrates                     0\n",
            "grams of sugars                                    9\n",
            "milligrams of potassium                            0\n",
            "vitamins and minerals (% of FDA recommendation)    1\n",
            "Display shelf                                      0\n",
            "Weight in ounces per one serving                   0\n",
            "Number of cups in one serving                      0\n",
            "Rating of cereal                                   0\n",
            "dtype: int64\n"
          ]
        }
      ]
    },
    {
      "cell_type": "markdown",
      "source": [
        "# Actividad de pipelines\n",
        "\n",
        "¿Qué tan bien se pueden predecir las calorías basándose en el fabricante, tipo de cereal, gramos de grasa, gramos de azúcares y el peso en onzas por una porción del cereal? \n",
        "\n",
        "Hasta ahora, solo completarán los pasos de preprocesamiento para esta tarea.\n",
        "\n",
        "Deberán:"
      ],
      "metadata": {
        "id": "bcec2XPd8osa"
      }
    },
    {
      "cell_type": "markdown",
      "source": [
        "* Definir la característica (X) y objetivo (y).\n"
      ],
      "metadata": {
        "id": "sfrmEzFT8yKN"
      }
    },
    {
      "cell_type": "code",
      "source": [
        "# dividan la característica y el objetivo y realicen un train/test split.\n",
        "X = df.drop(columns=['calories per serving'])\n",
        "y = df['calories per serving']"
      ],
      "metadata": {
        "id": "9QMV7kFR-FLO"
      },
      "execution_count": 13,
      "outputs": []
    },
    {
      "cell_type": "markdown",
      "source": [
        "* Utilizar train test split en los datos para prepararlos para aprendizaje automático."
      ],
      "metadata": {
        "id": "vnwZ0O-e9CiQ"
      }
    },
    {
      "cell_type": "code",
      "source": [
        "X_train, X_test, y_train, y_test = train_test_split(X, y, random_state = 42)"
      ],
      "metadata": {
        "id": "FDm2f9nTAcL0"
      },
      "execution_count": 14,
      "outputs": []
    },
    {
      "cell_type": "markdown",
      "source": [
        "* Identificar cada característica como numérica, ordinal o nominal. (Entreguen esta pregunta en una celda de texto en un cuaderno de Colab).\n"
      ],
      "metadata": {
        "id": "1CCQcySW-f8T"
      }
    },
    {
      "cell_type": "code",
      "source": [
        "df['Manufacturer'].value_counts()"
      ],
      "metadata": {
        "colab": {
          "base_uri": "https://localhost:8080/"
        },
        "id": "iu8jWUpp_2pY",
        "outputId": "b49473f5-de21-4698-c8e2-8c0b7112ce89"
      },
      "execution_count": 8,
      "outputs": [
        {
          "output_type": "execute_result",
          "data": {
            "text/plain": [
              "Kelloggs                       23\n",
              "General Mills                  22\n",
              "Post                            9\n",
              "Quaker Oats                     8\n",
              "Ralston Purina                  8\n",
              "Nabisco                         6\n",
              "American Home Food Products     1\n",
              "Name: Manufacturer, dtype: int64"
            ]
          },
          "metadata": {},
          "execution_count": 8
        }
      ]
    },
    {
      "cell_type": "code",
      "source": [
        "df['type'].value_counts()"
      ],
      "metadata": {
        "colab": {
          "base_uri": "https://localhost:8080/"
        },
        "id": "RDexN64vAFPl",
        "outputId": "d695fdba-28ab-4578-abf4-e265d0aa1ec4"
      },
      "execution_count": 9,
      "outputs": [
        {
          "output_type": "execute_result",
          "data": {
            "text/plain": [
              "Cold    65\n",
              "Hot      3\n",
              "Name: type, dtype: int64"
            ]
          },
          "metadata": {},
          "execution_count": 9
        }
      ]
    },
    {
      "cell_type": "markdown",
      "source": [
        "-Características numéricas:\n",
        " 3   calories per serving                             \n",
        " 4   grams of protein                                 \n",
        " 5   grams of fat                                     \n",
        " 6   milligrams of sodium                             \n",
        " 7   grams of dietary fiber                           \n",
        " 8   grams of complex carbohydrates                  \n",
        " 9   grams of sugars                                  \n",
        " 10  milligrams of potassium                          \n",
        " 11  vitamins and minerals (% of FDA recommendation)  \n",
        " 12  Display shelf                                    \n",
        " 13  Weight in ounces per one serving                 \n",
        " 14  Number of cups in one serving                    \n",
        " 15  Rating of cereal                \n",
        "\n",
        "-Características ordinal:\n",
        " NA\n",
        "\n",
        "-Características nominal:\n",
        " 1   name\n",
        " 2   Manufacturer\n",
        " 3   Type"
      ],
      "metadata": {
        "id": "LkVZjpIu_Lcd"
      }
    },
    {
      "cell_type": "markdown",
      "source": [
        "* Utilizar pipelines y transformadores de columnas para completar las siguientes tareas:\n",
        "\n",
        "-Imputar algún valor faltante. Utilizar la estrategia “mean” para las columnas numéricas y la estrategia “most_frequent” para las columnas categóricas.\n",
        "\n",
        "-Realizar una codificación one-hot a las características nominales.\n",
        "\n",
        "-Escalar las columnas numéricas.\n"
      ],
      "metadata": {
        "id": "Tz7oKMFX-hn7"
      }
    },
    {
      "cell_type": "code",
      "source": [
        "#Realizar selectores de columnas\n",
        "\n",
        "cat_selector = make_column_selector(dtype_include='object')\n",
        "num_selector = make_column_selector(dtype_include='number')"
      ],
      "metadata": {
        "id": "8rz1pztbApcA"
      },
      "execution_count": 16,
      "outputs": []
    },
    {
      "cell_type": "code",
      "source": [
        "# Imputers\n",
        "most_frequent_imputer = SimpleImputer(strategy='most_frequent')\n",
        "mean_imputer = SimpleImputer(strategy='mean')\n",
        "# Scaler\n",
        "scaler = StandardScaler()\n",
        "# One-hot encoder\n",
        "ohe = OneHotEncoder(handle_unknown='ignore', sparse=False)\n",
        "\n"
      ],
      "metadata": {
        "id": "6ayveBu0Bppw"
      },
      "execution_count": 19,
      "outputs": []
    },
    {
      "cell_type": "markdown",
      "source": [
        "Instanciar el pipeline"
      ],
      "metadata": {
        "id": "Ur6Al4upC45Y"
      }
    },
    {
      "cell_type": "code",
      "source": [
        "# Numeric pipeline\n",
        "numeric_pipe = make_pipeline(mean_imputer, scaler)\n",
        "numeric_pipe\n"
      ],
      "metadata": {
        "colab": {
          "base_uri": "https://localhost:8080/",
          "height": 126
        },
        "id": "Ojq07hRP_BrY",
        "outputId": "61b02d3e-7d0d-48c4-a4ba-7038124bd796"
      },
      "execution_count": 20,
      "outputs": [
        {
          "output_type": "execute_result",
          "data": {
            "text/plain": [
              "Pipeline(steps=[('simpleimputer', SimpleImputer()),\n",
              "                ('standardscaler', StandardScaler())])"
            ],
            "text/html": [
              "<style>#sk-f19b0125-64c9-42e9-8e46-afbb5bac5450 {color: black;background-color: white;}#sk-f19b0125-64c9-42e9-8e46-afbb5bac5450 pre{padding: 0;}#sk-f19b0125-64c9-42e9-8e46-afbb5bac5450 div.sk-toggleable {background-color: white;}#sk-f19b0125-64c9-42e9-8e46-afbb5bac5450 label.sk-toggleable__label {cursor: pointer;display: block;width: 100%;margin-bottom: 0;padding: 0.3em;box-sizing: border-box;text-align: center;}#sk-f19b0125-64c9-42e9-8e46-afbb5bac5450 label.sk-toggleable__label-arrow:before {content: \"▸\";float: left;margin-right: 0.25em;color: #696969;}#sk-f19b0125-64c9-42e9-8e46-afbb5bac5450 label.sk-toggleable__label-arrow:hover:before {color: black;}#sk-f19b0125-64c9-42e9-8e46-afbb5bac5450 div.sk-estimator:hover label.sk-toggleable__label-arrow:before {color: black;}#sk-f19b0125-64c9-42e9-8e46-afbb5bac5450 div.sk-toggleable__content {max-height: 0;max-width: 0;overflow: hidden;text-align: left;background-color: #f0f8ff;}#sk-f19b0125-64c9-42e9-8e46-afbb5bac5450 div.sk-toggleable__content pre {margin: 0.2em;color: black;border-radius: 0.25em;background-color: #f0f8ff;}#sk-f19b0125-64c9-42e9-8e46-afbb5bac5450 input.sk-toggleable__control:checked~div.sk-toggleable__content {max-height: 200px;max-width: 100%;overflow: auto;}#sk-f19b0125-64c9-42e9-8e46-afbb5bac5450 input.sk-toggleable__control:checked~label.sk-toggleable__label-arrow:before {content: \"▾\";}#sk-f19b0125-64c9-42e9-8e46-afbb5bac5450 div.sk-estimator input.sk-toggleable__control:checked~label.sk-toggleable__label {background-color: #d4ebff;}#sk-f19b0125-64c9-42e9-8e46-afbb5bac5450 div.sk-label input.sk-toggleable__control:checked~label.sk-toggleable__label {background-color: #d4ebff;}#sk-f19b0125-64c9-42e9-8e46-afbb5bac5450 input.sk-hidden--visually {border: 0;clip: rect(1px 1px 1px 1px);clip: rect(1px, 1px, 1px, 1px);height: 1px;margin: -1px;overflow: hidden;padding: 0;position: absolute;width: 1px;}#sk-f19b0125-64c9-42e9-8e46-afbb5bac5450 div.sk-estimator {font-family: monospace;background-color: #f0f8ff;border: 1px dotted black;border-radius: 0.25em;box-sizing: border-box;margin-bottom: 0.5em;}#sk-f19b0125-64c9-42e9-8e46-afbb5bac5450 div.sk-estimator:hover {background-color: #d4ebff;}#sk-f19b0125-64c9-42e9-8e46-afbb5bac5450 div.sk-parallel-item::after {content: \"\";width: 100%;border-bottom: 1px solid gray;flex-grow: 1;}#sk-f19b0125-64c9-42e9-8e46-afbb5bac5450 div.sk-label:hover label.sk-toggleable__label {background-color: #d4ebff;}#sk-f19b0125-64c9-42e9-8e46-afbb5bac5450 div.sk-serial::before {content: \"\";position: absolute;border-left: 1px solid gray;box-sizing: border-box;top: 2em;bottom: 0;left: 50%;}#sk-f19b0125-64c9-42e9-8e46-afbb5bac5450 div.sk-serial {display: flex;flex-direction: column;align-items: center;background-color: white;padding-right: 0.2em;padding-left: 0.2em;}#sk-f19b0125-64c9-42e9-8e46-afbb5bac5450 div.sk-item {z-index: 1;}#sk-f19b0125-64c9-42e9-8e46-afbb5bac5450 div.sk-parallel {display: flex;align-items: stretch;justify-content: center;background-color: white;}#sk-f19b0125-64c9-42e9-8e46-afbb5bac5450 div.sk-parallel::before {content: \"\";position: absolute;border-left: 1px solid gray;box-sizing: border-box;top: 2em;bottom: 0;left: 50%;}#sk-f19b0125-64c9-42e9-8e46-afbb5bac5450 div.sk-parallel-item {display: flex;flex-direction: column;position: relative;background-color: white;}#sk-f19b0125-64c9-42e9-8e46-afbb5bac5450 div.sk-parallel-item:first-child::after {align-self: flex-end;width: 50%;}#sk-f19b0125-64c9-42e9-8e46-afbb5bac5450 div.sk-parallel-item:last-child::after {align-self: flex-start;width: 50%;}#sk-f19b0125-64c9-42e9-8e46-afbb5bac5450 div.sk-parallel-item:only-child::after {width: 0;}#sk-f19b0125-64c9-42e9-8e46-afbb5bac5450 div.sk-dashed-wrapped {border: 1px dashed gray;margin: 0 0.4em 0.5em 0.4em;box-sizing: border-box;padding-bottom: 0.4em;background-color: white;position: relative;}#sk-f19b0125-64c9-42e9-8e46-afbb5bac5450 div.sk-label label {font-family: monospace;font-weight: bold;background-color: white;display: inline-block;line-height: 1.2em;}#sk-f19b0125-64c9-42e9-8e46-afbb5bac5450 div.sk-label-container {position: relative;z-index: 2;text-align: center;}#sk-f19b0125-64c9-42e9-8e46-afbb5bac5450 div.sk-container {/* jupyter's `normalize.less` sets `[hidden] { display: none; }` but bootstrap.min.css set `[hidden] { display: none !important; }` so we also need the `!important` here to be able to override the default hidden behavior on the sphinx rendered scikit-learn.org. See: https://github.com/scikit-learn/scikit-learn/issues/21755 */display: inline-block !important;position: relative;}#sk-f19b0125-64c9-42e9-8e46-afbb5bac5450 div.sk-text-repr-fallback {display: none;}</style><div id=\"sk-f19b0125-64c9-42e9-8e46-afbb5bac5450\" class=\"sk-top-container\"><div class=\"sk-text-repr-fallback\"><pre>Pipeline(steps=[(&#x27;simpleimputer&#x27;, SimpleImputer()),\n",
              "                (&#x27;standardscaler&#x27;, StandardScaler())])</pre><b>Please rerun this cell to show the HTML repr or trust the notebook.</b></div><div class=\"sk-container\" hidden><div class=\"sk-item sk-dashed-wrapped\"><div class=\"sk-label-container\"><div class=\"sk-label sk-toggleable\"><input class=\"sk-toggleable__control sk-hidden--visually\" id=\"7f441844-f13f-4858-acef-5744a4f4b5f3\" type=\"checkbox\" ><label for=\"7f441844-f13f-4858-acef-5744a4f4b5f3\" class=\"sk-toggleable__label sk-toggleable__label-arrow\">Pipeline</label><div class=\"sk-toggleable__content\"><pre>Pipeline(steps=[(&#x27;simpleimputer&#x27;, SimpleImputer()),\n",
              "                (&#x27;standardscaler&#x27;, StandardScaler())])</pre></div></div></div><div class=\"sk-serial\"><div class=\"sk-item\"><div class=\"sk-estimator sk-toggleable\"><input class=\"sk-toggleable__control sk-hidden--visually\" id=\"4b4ec1b0-d91b-4041-8e86-89567cf6f19e\" type=\"checkbox\" ><label for=\"4b4ec1b0-d91b-4041-8e86-89567cf6f19e\" class=\"sk-toggleable__label sk-toggleable__label-arrow\">SimpleImputer</label><div class=\"sk-toggleable__content\"><pre>SimpleImputer()</pre></div></div></div><div class=\"sk-item\"><div class=\"sk-estimator sk-toggleable\"><input class=\"sk-toggleable__control sk-hidden--visually\" id=\"7bf14f6e-8651-43dc-ae5e-d52385b535ba\" type=\"checkbox\" ><label for=\"7bf14f6e-8651-43dc-ae5e-d52385b535ba\" class=\"sk-toggleable__label sk-toggleable__label-arrow\">StandardScaler</label><div class=\"sk-toggleable__content\"><pre>StandardScaler()</pre></div></div></div></div></div></div></div>"
            ]
          },
          "metadata": {},
          "execution_count": 20
        }
      ]
    },
    {
      "cell_type": "code",
      "source": [
        "# Categorical pipeline\n",
        "categorical_pipe = make_pipeline(most_frequent_imputer, ohe)\n",
        "categorical_pipe\n"
      ],
      "metadata": {
        "colab": {
          "base_uri": "https://localhost:8080/",
          "height": 126
        },
        "id": "WJyywtv_C-2y",
        "outputId": "792542ae-d539-4c43-ae63-f87618e4dec0"
      },
      "execution_count": 21,
      "outputs": [
        {
          "output_type": "execute_result",
          "data": {
            "text/plain": [
              "Pipeline(steps=[('simpleimputer', SimpleImputer(strategy='most_frequent')),\n",
              "                ('onehotencoder',\n",
              "                 OneHotEncoder(handle_unknown='ignore', sparse=False))])"
            ],
            "text/html": [
              "<style>#sk-d9cea3d7-0cc6-427c-8d1a-0a2dfdc05a31 {color: black;background-color: white;}#sk-d9cea3d7-0cc6-427c-8d1a-0a2dfdc05a31 pre{padding: 0;}#sk-d9cea3d7-0cc6-427c-8d1a-0a2dfdc05a31 div.sk-toggleable {background-color: white;}#sk-d9cea3d7-0cc6-427c-8d1a-0a2dfdc05a31 label.sk-toggleable__label {cursor: pointer;display: block;width: 100%;margin-bottom: 0;padding: 0.3em;box-sizing: border-box;text-align: center;}#sk-d9cea3d7-0cc6-427c-8d1a-0a2dfdc05a31 label.sk-toggleable__label-arrow:before {content: \"▸\";float: left;margin-right: 0.25em;color: #696969;}#sk-d9cea3d7-0cc6-427c-8d1a-0a2dfdc05a31 label.sk-toggleable__label-arrow:hover:before {color: black;}#sk-d9cea3d7-0cc6-427c-8d1a-0a2dfdc05a31 div.sk-estimator:hover label.sk-toggleable__label-arrow:before {color: black;}#sk-d9cea3d7-0cc6-427c-8d1a-0a2dfdc05a31 div.sk-toggleable__content {max-height: 0;max-width: 0;overflow: hidden;text-align: left;background-color: #f0f8ff;}#sk-d9cea3d7-0cc6-427c-8d1a-0a2dfdc05a31 div.sk-toggleable__content pre {margin: 0.2em;color: black;border-radius: 0.25em;background-color: #f0f8ff;}#sk-d9cea3d7-0cc6-427c-8d1a-0a2dfdc05a31 input.sk-toggleable__control:checked~div.sk-toggleable__content {max-height: 200px;max-width: 100%;overflow: auto;}#sk-d9cea3d7-0cc6-427c-8d1a-0a2dfdc05a31 input.sk-toggleable__control:checked~label.sk-toggleable__label-arrow:before {content: \"▾\";}#sk-d9cea3d7-0cc6-427c-8d1a-0a2dfdc05a31 div.sk-estimator input.sk-toggleable__control:checked~label.sk-toggleable__label {background-color: #d4ebff;}#sk-d9cea3d7-0cc6-427c-8d1a-0a2dfdc05a31 div.sk-label input.sk-toggleable__control:checked~label.sk-toggleable__label {background-color: #d4ebff;}#sk-d9cea3d7-0cc6-427c-8d1a-0a2dfdc05a31 input.sk-hidden--visually {border: 0;clip: rect(1px 1px 1px 1px);clip: rect(1px, 1px, 1px, 1px);height: 1px;margin: -1px;overflow: hidden;padding: 0;position: absolute;width: 1px;}#sk-d9cea3d7-0cc6-427c-8d1a-0a2dfdc05a31 div.sk-estimator {font-family: monospace;background-color: #f0f8ff;border: 1px dotted black;border-radius: 0.25em;box-sizing: border-box;margin-bottom: 0.5em;}#sk-d9cea3d7-0cc6-427c-8d1a-0a2dfdc05a31 div.sk-estimator:hover {background-color: #d4ebff;}#sk-d9cea3d7-0cc6-427c-8d1a-0a2dfdc05a31 div.sk-parallel-item::after {content: \"\";width: 100%;border-bottom: 1px solid gray;flex-grow: 1;}#sk-d9cea3d7-0cc6-427c-8d1a-0a2dfdc05a31 div.sk-label:hover label.sk-toggleable__label {background-color: #d4ebff;}#sk-d9cea3d7-0cc6-427c-8d1a-0a2dfdc05a31 div.sk-serial::before {content: \"\";position: absolute;border-left: 1px solid gray;box-sizing: border-box;top: 2em;bottom: 0;left: 50%;}#sk-d9cea3d7-0cc6-427c-8d1a-0a2dfdc05a31 div.sk-serial {display: flex;flex-direction: column;align-items: center;background-color: white;padding-right: 0.2em;padding-left: 0.2em;}#sk-d9cea3d7-0cc6-427c-8d1a-0a2dfdc05a31 div.sk-item {z-index: 1;}#sk-d9cea3d7-0cc6-427c-8d1a-0a2dfdc05a31 div.sk-parallel {display: flex;align-items: stretch;justify-content: center;background-color: white;}#sk-d9cea3d7-0cc6-427c-8d1a-0a2dfdc05a31 div.sk-parallel::before {content: \"\";position: absolute;border-left: 1px solid gray;box-sizing: border-box;top: 2em;bottom: 0;left: 50%;}#sk-d9cea3d7-0cc6-427c-8d1a-0a2dfdc05a31 div.sk-parallel-item {display: flex;flex-direction: column;position: relative;background-color: white;}#sk-d9cea3d7-0cc6-427c-8d1a-0a2dfdc05a31 div.sk-parallel-item:first-child::after {align-self: flex-end;width: 50%;}#sk-d9cea3d7-0cc6-427c-8d1a-0a2dfdc05a31 div.sk-parallel-item:last-child::after {align-self: flex-start;width: 50%;}#sk-d9cea3d7-0cc6-427c-8d1a-0a2dfdc05a31 div.sk-parallel-item:only-child::after {width: 0;}#sk-d9cea3d7-0cc6-427c-8d1a-0a2dfdc05a31 div.sk-dashed-wrapped {border: 1px dashed gray;margin: 0 0.4em 0.5em 0.4em;box-sizing: border-box;padding-bottom: 0.4em;background-color: white;position: relative;}#sk-d9cea3d7-0cc6-427c-8d1a-0a2dfdc05a31 div.sk-label label {font-family: monospace;font-weight: bold;background-color: white;display: inline-block;line-height: 1.2em;}#sk-d9cea3d7-0cc6-427c-8d1a-0a2dfdc05a31 div.sk-label-container {position: relative;z-index: 2;text-align: center;}#sk-d9cea3d7-0cc6-427c-8d1a-0a2dfdc05a31 div.sk-container {/* jupyter's `normalize.less` sets `[hidden] { display: none; }` but bootstrap.min.css set `[hidden] { display: none !important; }` so we also need the `!important` here to be able to override the default hidden behavior on the sphinx rendered scikit-learn.org. See: https://github.com/scikit-learn/scikit-learn/issues/21755 */display: inline-block !important;position: relative;}#sk-d9cea3d7-0cc6-427c-8d1a-0a2dfdc05a31 div.sk-text-repr-fallback {display: none;}</style><div id=\"sk-d9cea3d7-0cc6-427c-8d1a-0a2dfdc05a31\" class=\"sk-top-container\"><div class=\"sk-text-repr-fallback\"><pre>Pipeline(steps=[(&#x27;simpleimputer&#x27;, SimpleImputer(strategy=&#x27;most_frequent&#x27;)),\n",
              "                (&#x27;onehotencoder&#x27;,\n",
              "                 OneHotEncoder(handle_unknown=&#x27;ignore&#x27;, sparse=False))])</pre><b>Please rerun this cell to show the HTML repr or trust the notebook.</b></div><div class=\"sk-container\" hidden><div class=\"sk-item sk-dashed-wrapped\"><div class=\"sk-label-container\"><div class=\"sk-label sk-toggleable\"><input class=\"sk-toggleable__control sk-hidden--visually\" id=\"30620dc0-9ea9-4ca0-867b-dde4edd1db96\" type=\"checkbox\" ><label for=\"30620dc0-9ea9-4ca0-867b-dde4edd1db96\" class=\"sk-toggleable__label sk-toggleable__label-arrow\">Pipeline</label><div class=\"sk-toggleable__content\"><pre>Pipeline(steps=[(&#x27;simpleimputer&#x27;, SimpleImputer(strategy=&#x27;most_frequent&#x27;)),\n",
              "                (&#x27;onehotencoder&#x27;,\n",
              "                 OneHotEncoder(handle_unknown=&#x27;ignore&#x27;, sparse=False))])</pre></div></div></div><div class=\"sk-serial\"><div class=\"sk-item\"><div class=\"sk-estimator sk-toggleable\"><input class=\"sk-toggleable__control sk-hidden--visually\" id=\"1d466f90-678d-4f72-bf85-efe235f7a7a2\" type=\"checkbox\" ><label for=\"1d466f90-678d-4f72-bf85-efe235f7a7a2\" class=\"sk-toggleable__label sk-toggleable__label-arrow\">SimpleImputer</label><div class=\"sk-toggleable__content\"><pre>SimpleImputer(strategy=&#x27;most_frequent&#x27;)</pre></div></div></div><div class=\"sk-item\"><div class=\"sk-estimator sk-toggleable\"><input class=\"sk-toggleable__control sk-hidden--visually\" id=\"3d6afa9f-68c5-454b-b6d3-33c91a63912b\" type=\"checkbox\" ><label for=\"3d6afa9f-68c5-454b-b6d3-33c91a63912b\" class=\"sk-toggleable__label sk-toggleable__label-arrow\">OneHotEncoder</label><div class=\"sk-toggleable__content\"><pre>OneHotEncoder(handle_unknown=&#x27;ignore&#x27;, sparse=False)</pre></div></div></div></div></div></div></div>"
            ]
          },
          "metadata": {},
          "execution_count": 21
        }
      ]
    },
    {
      "cell_type": "code",
      "source": [
        "# Tuples para Column Transformer\n",
        "number_tuple = (numeric_pipe, num_selector)\n",
        "category_tuple = (categorical_pipe, cat_selector)\n",
        "# ColumnTransformer\n",
        "preprocessor = make_column_transformer(number_tuple, category_tuple)\n",
        "preprocessor\n",
        "\n"
      ],
      "metadata": {
        "colab": {
          "base_uri": "https://localhost:8080/",
          "height": 152
        },
        "id": "3D5wXqSaDcpt",
        "outputId": "8234935f-908c-47a1-d68f-f3751d5f921f"
      },
      "execution_count": 24,
      "outputs": [
        {
          "output_type": "execute_result",
          "data": {
            "text/plain": [
              "ColumnTransformer(transformers=[('pipeline-1',\n",
              "                                 Pipeline(steps=[('simpleimputer',\n",
              "                                                  SimpleImputer()),\n",
              "                                                 ('standardscaler',\n",
              "                                                  StandardScaler())]),\n",
              "                                 <sklearn.compose._column_transformer.make_column_selector object at 0x7f83bd6295d0>),\n",
              "                                ('pipeline-2',\n",
              "                                 Pipeline(steps=[('simpleimputer',\n",
              "                                                  SimpleImputer(strategy='most_frequent')),\n",
              "                                                 ('onehotencoder',\n",
              "                                                  OneHotEncoder(handle_unknown='ignore',\n",
              "                                                                sparse=False))]),\n",
              "                                 <sklearn.compose._column_transformer.make_column_selector object at 0x7f83bd6296d0>)])"
            ],
            "text/html": [
              "<style>#sk-edc0ecdf-cee6-4dbc-8276-6eb74bd9197c {color: black;background-color: white;}#sk-edc0ecdf-cee6-4dbc-8276-6eb74bd9197c pre{padding: 0;}#sk-edc0ecdf-cee6-4dbc-8276-6eb74bd9197c div.sk-toggleable {background-color: white;}#sk-edc0ecdf-cee6-4dbc-8276-6eb74bd9197c label.sk-toggleable__label {cursor: pointer;display: block;width: 100%;margin-bottom: 0;padding: 0.3em;box-sizing: border-box;text-align: center;}#sk-edc0ecdf-cee6-4dbc-8276-6eb74bd9197c label.sk-toggleable__label-arrow:before {content: \"▸\";float: left;margin-right: 0.25em;color: #696969;}#sk-edc0ecdf-cee6-4dbc-8276-6eb74bd9197c label.sk-toggleable__label-arrow:hover:before {color: black;}#sk-edc0ecdf-cee6-4dbc-8276-6eb74bd9197c div.sk-estimator:hover label.sk-toggleable__label-arrow:before {color: black;}#sk-edc0ecdf-cee6-4dbc-8276-6eb74bd9197c div.sk-toggleable__content {max-height: 0;max-width: 0;overflow: hidden;text-align: left;background-color: #f0f8ff;}#sk-edc0ecdf-cee6-4dbc-8276-6eb74bd9197c div.sk-toggleable__content pre {margin: 0.2em;color: black;border-radius: 0.25em;background-color: #f0f8ff;}#sk-edc0ecdf-cee6-4dbc-8276-6eb74bd9197c input.sk-toggleable__control:checked~div.sk-toggleable__content {max-height: 200px;max-width: 100%;overflow: auto;}#sk-edc0ecdf-cee6-4dbc-8276-6eb74bd9197c input.sk-toggleable__control:checked~label.sk-toggleable__label-arrow:before {content: \"▾\";}#sk-edc0ecdf-cee6-4dbc-8276-6eb74bd9197c div.sk-estimator input.sk-toggleable__control:checked~label.sk-toggleable__label {background-color: #d4ebff;}#sk-edc0ecdf-cee6-4dbc-8276-6eb74bd9197c div.sk-label input.sk-toggleable__control:checked~label.sk-toggleable__label {background-color: #d4ebff;}#sk-edc0ecdf-cee6-4dbc-8276-6eb74bd9197c input.sk-hidden--visually {border: 0;clip: rect(1px 1px 1px 1px);clip: rect(1px, 1px, 1px, 1px);height: 1px;margin: -1px;overflow: hidden;padding: 0;position: absolute;width: 1px;}#sk-edc0ecdf-cee6-4dbc-8276-6eb74bd9197c div.sk-estimator {font-family: monospace;background-color: #f0f8ff;border: 1px dotted black;border-radius: 0.25em;box-sizing: border-box;margin-bottom: 0.5em;}#sk-edc0ecdf-cee6-4dbc-8276-6eb74bd9197c div.sk-estimator:hover {background-color: #d4ebff;}#sk-edc0ecdf-cee6-4dbc-8276-6eb74bd9197c div.sk-parallel-item::after {content: \"\";width: 100%;border-bottom: 1px solid gray;flex-grow: 1;}#sk-edc0ecdf-cee6-4dbc-8276-6eb74bd9197c div.sk-label:hover label.sk-toggleable__label {background-color: #d4ebff;}#sk-edc0ecdf-cee6-4dbc-8276-6eb74bd9197c div.sk-serial::before {content: \"\";position: absolute;border-left: 1px solid gray;box-sizing: border-box;top: 2em;bottom: 0;left: 50%;}#sk-edc0ecdf-cee6-4dbc-8276-6eb74bd9197c div.sk-serial {display: flex;flex-direction: column;align-items: center;background-color: white;padding-right: 0.2em;padding-left: 0.2em;}#sk-edc0ecdf-cee6-4dbc-8276-6eb74bd9197c div.sk-item {z-index: 1;}#sk-edc0ecdf-cee6-4dbc-8276-6eb74bd9197c div.sk-parallel {display: flex;align-items: stretch;justify-content: center;background-color: white;}#sk-edc0ecdf-cee6-4dbc-8276-6eb74bd9197c div.sk-parallel::before {content: \"\";position: absolute;border-left: 1px solid gray;box-sizing: border-box;top: 2em;bottom: 0;left: 50%;}#sk-edc0ecdf-cee6-4dbc-8276-6eb74bd9197c div.sk-parallel-item {display: flex;flex-direction: column;position: relative;background-color: white;}#sk-edc0ecdf-cee6-4dbc-8276-6eb74bd9197c div.sk-parallel-item:first-child::after {align-self: flex-end;width: 50%;}#sk-edc0ecdf-cee6-4dbc-8276-6eb74bd9197c div.sk-parallel-item:last-child::after {align-self: flex-start;width: 50%;}#sk-edc0ecdf-cee6-4dbc-8276-6eb74bd9197c div.sk-parallel-item:only-child::after {width: 0;}#sk-edc0ecdf-cee6-4dbc-8276-6eb74bd9197c div.sk-dashed-wrapped {border: 1px dashed gray;margin: 0 0.4em 0.5em 0.4em;box-sizing: border-box;padding-bottom: 0.4em;background-color: white;position: relative;}#sk-edc0ecdf-cee6-4dbc-8276-6eb74bd9197c div.sk-label label {font-family: monospace;font-weight: bold;background-color: white;display: inline-block;line-height: 1.2em;}#sk-edc0ecdf-cee6-4dbc-8276-6eb74bd9197c div.sk-label-container {position: relative;z-index: 2;text-align: center;}#sk-edc0ecdf-cee6-4dbc-8276-6eb74bd9197c div.sk-container {/* jupyter's `normalize.less` sets `[hidden] { display: none; }` but bootstrap.min.css set `[hidden] { display: none !important; }` so we also need the `!important` here to be able to override the default hidden behavior on the sphinx rendered scikit-learn.org. See: https://github.com/scikit-learn/scikit-learn/issues/21755 */display: inline-block !important;position: relative;}#sk-edc0ecdf-cee6-4dbc-8276-6eb74bd9197c div.sk-text-repr-fallback {display: none;}</style><div id=\"sk-edc0ecdf-cee6-4dbc-8276-6eb74bd9197c\" class=\"sk-top-container\"><div class=\"sk-text-repr-fallback\"><pre>ColumnTransformer(transformers=[(&#x27;pipeline-1&#x27;,\n",
              "                                 Pipeline(steps=[(&#x27;simpleimputer&#x27;,\n",
              "                                                  SimpleImputer()),\n",
              "                                                 (&#x27;standardscaler&#x27;,\n",
              "                                                  StandardScaler())]),\n",
              "                                 &lt;sklearn.compose._column_transformer.make_column_selector object at 0x7f83bd6295d0&gt;),\n",
              "                                (&#x27;pipeline-2&#x27;,\n",
              "                                 Pipeline(steps=[(&#x27;simpleimputer&#x27;,\n",
              "                                                  SimpleImputer(strategy=&#x27;most_frequent&#x27;)),\n",
              "                                                 (&#x27;onehotencoder&#x27;,\n",
              "                                                  OneHotEncoder(handle_unknown=&#x27;ignore&#x27;,\n",
              "                                                                sparse=False))]),\n",
              "                                 &lt;sklearn.compose._column_transformer.make_column_selector object at 0x7f83bd6296d0&gt;)])</pre><b>Please rerun this cell to show the HTML repr or trust the notebook.</b></div><div class=\"sk-container\" hidden><div class=\"sk-item sk-dashed-wrapped\"><div class=\"sk-label-container\"><div class=\"sk-label sk-toggleable\"><input class=\"sk-toggleable__control sk-hidden--visually\" id=\"b756540c-00c9-44a3-a660-0ce70df941f7\" type=\"checkbox\" ><label for=\"b756540c-00c9-44a3-a660-0ce70df941f7\" class=\"sk-toggleable__label sk-toggleable__label-arrow\">ColumnTransformer</label><div class=\"sk-toggleable__content\"><pre>ColumnTransformer(transformers=[(&#x27;pipeline-1&#x27;,\n",
              "                                 Pipeline(steps=[(&#x27;simpleimputer&#x27;,\n",
              "                                                  SimpleImputer()),\n",
              "                                                 (&#x27;standardscaler&#x27;,\n",
              "                                                  StandardScaler())]),\n",
              "                                 &lt;sklearn.compose._column_transformer.make_column_selector object at 0x7f83bd6295d0&gt;),\n",
              "                                (&#x27;pipeline-2&#x27;,\n",
              "                                 Pipeline(steps=[(&#x27;simpleimputer&#x27;,\n",
              "                                                  SimpleImputer(strategy=&#x27;most_frequent&#x27;)),\n",
              "                                                 (&#x27;onehotencoder&#x27;,\n",
              "                                                  OneHotEncoder(handle_unknown=&#x27;ignore&#x27;,\n",
              "                                                                sparse=False))]),\n",
              "                                 &lt;sklearn.compose._column_transformer.make_column_selector object at 0x7f83bd6296d0&gt;)])</pre></div></div></div><div class=\"sk-parallel\"><div class=\"sk-parallel-item\"><div class=\"sk-item\"><div class=\"sk-label-container\"><div class=\"sk-label sk-toggleable\"><input class=\"sk-toggleable__control sk-hidden--visually\" id=\"73c2b4b5-7d41-4ac0-ab7b-6fbccd44b8c2\" type=\"checkbox\" ><label for=\"73c2b4b5-7d41-4ac0-ab7b-6fbccd44b8c2\" class=\"sk-toggleable__label sk-toggleable__label-arrow\">pipeline-1</label><div class=\"sk-toggleable__content\"><pre>&lt;sklearn.compose._column_transformer.make_column_selector object at 0x7f83bd6295d0&gt;</pre></div></div></div><div class=\"sk-serial\"><div class=\"sk-item\"><div class=\"sk-serial\"><div class=\"sk-item\"><div class=\"sk-estimator sk-toggleable\"><input class=\"sk-toggleable__control sk-hidden--visually\" id=\"698f648a-9f56-4e32-b648-0a9f9d3f384d\" type=\"checkbox\" ><label for=\"698f648a-9f56-4e32-b648-0a9f9d3f384d\" class=\"sk-toggleable__label sk-toggleable__label-arrow\">SimpleImputer</label><div class=\"sk-toggleable__content\"><pre>SimpleImputer()</pre></div></div></div><div class=\"sk-item\"><div class=\"sk-estimator sk-toggleable\"><input class=\"sk-toggleable__control sk-hidden--visually\" id=\"74b84521-ab94-4919-b9a6-b1e674890dcf\" type=\"checkbox\" ><label for=\"74b84521-ab94-4919-b9a6-b1e674890dcf\" class=\"sk-toggleable__label sk-toggleable__label-arrow\">StandardScaler</label><div class=\"sk-toggleable__content\"><pre>StandardScaler()</pre></div></div></div></div></div></div></div></div><div class=\"sk-parallel-item\"><div class=\"sk-item\"><div class=\"sk-label-container\"><div class=\"sk-label sk-toggleable\"><input class=\"sk-toggleable__control sk-hidden--visually\" id=\"54f6352c-5a7b-443a-a9da-872dd7810b9a\" type=\"checkbox\" ><label for=\"54f6352c-5a7b-443a-a9da-872dd7810b9a\" class=\"sk-toggleable__label sk-toggleable__label-arrow\">pipeline-2</label><div class=\"sk-toggleable__content\"><pre>&lt;sklearn.compose._column_transformer.make_column_selector object at 0x7f83bd6296d0&gt;</pre></div></div></div><div class=\"sk-serial\"><div class=\"sk-item\"><div class=\"sk-serial\"><div class=\"sk-item\"><div class=\"sk-estimator sk-toggleable\"><input class=\"sk-toggleable__control sk-hidden--visually\" id=\"73b32258-1415-49e2-af1a-d822c1ffef98\" type=\"checkbox\" ><label for=\"73b32258-1415-49e2-af1a-d822c1ffef98\" class=\"sk-toggleable__label sk-toggleable__label-arrow\">SimpleImputer</label><div class=\"sk-toggleable__content\"><pre>SimpleImputer(strategy=&#x27;most_frequent&#x27;)</pre></div></div></div><div class=\"sk-item\"><div class=\"sk-estimator sk-toggleable\"><input class=\"sk-toggleable__control sk-hidden--visually\" id=\"99a4c456-45c9-45ed-b580-4760da23bbd7\" type=\"checkbox\" ><label for=\"99a4c456-45c9-45ed-b580-4760da23bbd7\" class=\"sk-toggleable__label sk-toggleable__label-arrow\">OneHotEncoder</label><div class=\"sk-toggleable__content\"><pre>OneHotEncoder(handle_unknown=&#x27;ignore&#x27;, sparse=False)</pre></div></div></div></div></div></div></div></div></div></div></div></div>"
            ]
          },
          "metadata": {},
          "execution_count": 24
        }
      ]
    },
    {
      "cell_type": "markdown",
      "source": [
        "* Todos los datos de preprocesamiento deben estar contenidos en un único objeto de preprocesamiento."
      ],
      "metadata": {
        "id": "KSUx4OO9-tRk"
      }
    },
    {
      "cell_type": "code",
      "source": [
        "# Transformador de datos\n",
        "# fit on train\n",
        "preprocessor.fit(X_train)\n",
        "\n"
      ],
      "metadata": {
        "colab": {
          "base_uri": "https://localhost:8080/",
          "height": 152
        },
        "id": "WclrE3wRDx3p",
        "outputId": "873d56f8-725c-45e7-b77c-945fa7e5aa02"
      },
      "execution_count": 25,
      "outputs": [
        {
          "output_type": "execute_result",
          "data": {
            "text/plain": [
              "ColumnTransformer(transformers=[('pipeline-1',\n",
              "                                 Pipeline(steps=[('simpleimputer',\n",
              "                                                  SimpleImputer()),\n",
              "                                                 ('standardscaler',\n",
              "                                                  StandardScaler())]),\n",
              "                                 <sklearn.compose._column_transformer.make_column_selector object at 0x7f83bd6295d0>),\n",
              "                                ('pipeline-2',\n",
              "                                 Pipeline(steps=[('simpleimputer',\n",
              "                                                  SimpleImputer(strategy='most_frequent')),\n",
              "                                                 ('onehotencoder',\n",
              "                                                  OneHotEncoder(handle_unknown='ignore',\n",
              "                                                                sparse=False))]),\n",
              "                                 <sklearn.compose._column_transformer.make_column_selector object at 0x7f83bd6296d0>)])"
            ],
            "text/html": [
              "<style>#sk-92bca7e3-049a-48cf-b6d0-855c8c36c26c {color: black;background-color: white;}#sk-92bca7e3-049a-48cf-b6d0-855c8c36c26c pre{padding: 0;}#sk-92bca7e3-049a-48cf-b6d0-855c8c36c26c div.sk-toggleable {background-color: white;}#sk-92bca7e3-049a-48cf-b6d0-855c8c36c26c label.sk-toggleable__label {cursor: pointer;display: block;width: 100%;margin-bottom: 0;padding: 0.3em;box-sizing: border-box;text-align: center;}#sk-92bca7e3-049a-48cf-b6d0-855c8c36c26c label.sk-toggleable__label-arrow:before {content: \"▸\";float: left;margin-right: 0.25em;color: #696969;}#sk-92bca7e3-049a-48cf-b6d0-855c8c36c26c label.sk-toggleable__label-arrow:hover:before {color: black;}#sk-92bca7e3-049a-48cf-b6d0-855c8c36c26c div.sk-estimator:hover label.sk-toggleable__label-arrow:before {color: black;}#sk-92bca7e3-049a-48cf-b6d0-855c8c36c26c div.sk-toggleable__content {max-height: 0;max-width: 0;overflow: hidden;text-align: left;background-color: #f0f8ff;}#sk-92bca7e3-049a-48cf-b6d0-855c8c36c26c div.sk-toggleable__content pre {margin: 0.2em;color: black;border-radius: 0.25em;background-color: #f0f8ff;}#sk-92bca7e3-049a-48cf-b6d0-855c8c36c26c input.sk-toggleable__control:checked~div.sk-toggleable__content {max-height: 200px;max-width: 100%;overflow: auto;}#sk-92bca7e3-049a-48cf-b6d0-855c8c36c26c input.sk-toggleable__control:checked~label.sk-toggleable__label-arrow:before {content: \"▾\";}#sk-92bca7e3-049a-48cf-b6d0-855c8c36c26c div.sk-estimator input.sk-toggleable__control:checked~label.sk-toggleable__label {background-color: #d4ebff;}#sk-92bca7e3-049a-48cf-b6d0-855c8c36c26c div.sk-label input.sk-toggleable__control:checked~label.sk-toggleable__label {background-color: #d4ebff;}#sk-92bca7e3-049a-48cf-b6d0-855c8c36c26c input.sk-hidden--visually {border: 0;clip: rect(1px 1px 1px 1px);clip: rect(1px, 1px, 1px, 1px);height: 1px;margin: -1px;overflow: hidden;padding: 0;position: absolute;width: 1px;}#sk-92bca7e3-049a-48cf-b6d0-855c8c36c26c div.sk-estimator {font-family: monospace;background-color: #f0f8ff;border: 1px dotted black;border-radius: 0.25em;box-sizing: border-box;margin-bottom: 0.5em;}#sk-92bca7e3-049a-48cf-b6d0-855c8c36c26c div.sk-estimator:hover {background-color: #d4ebff;}#sk-92bca7e3-049a-48cf-b6d0-855c8c36c26c div.sk-parallel-item::after {content: \"\";width: 100%;border-bottom: 1px solid gray;flex-grow: 1;}#sk-92bca7e3-049a-48cf-b6d0-855c8c36c26c div.sk-label:hover label.sk-toggleable__label {background-color: #d4ebff;}#sk-92bca7e3-049a-48cf-b6d0-855c8c36c26c div.sk-serial::before {content: \"\";position: absolute;border-left: 1px solid gray;box-sizing: border-box;top: 2em;bottom: 0;left: 50%;}#sk-92bca7e3-049a-48cf-b6d0-855c8c36c26c div.sk-serial {display: flex;flex-direction: column;align-items: center;background-color: white;padding-right: 0.2em;padding-left: 0.2em;}#sk-92bca7e3-049a-48cf-b6d0-855c8c36c26c div.sk-item {z-index: 1;}#sk-92bca7e3-049a-48cf-b6d0-855c8c36c26c div.sk-parallel {display: flex;align-items: stretch;justify-content: center;background-color: white;}#sk-92bca7e3-049a-48cf-b6d0-855c8c36c26c div.sk-parallel::before {content: \"\";position: absolute;border-left: 1px solid gray;box-sizing: border-box;top: 2em;bottom: 0;left: 50%;}#sk-92bca7e3-049a-48cf-b6d0-855c8c36c26c div.sk-parallel-item {display: flex;flex-direction: column;position: relative;background-color: white;}#sk-92bca7e3-049a-48cf-b6d0-855c8c36c26c div.sk-parallel-item:first-child::after {align-self: flex-end;width: 50%;}#sk-92bca7e3-049a-48cf-b6d0-855c8c36c26c div.sk-parallel-item:last-child::after {align-self: flex-start;width: 50%;}#sk-92bca7e3-049a-48cf-b6d0-855c8c36c26c div.sk-parallel-item:only-child::after {width: 0;}#sk-92bca7e3-049a-48cf-b6d0-855c8c36c26c div.sk-dashed-wrapped {border: 1px dashed gray;margin: 0 0.4em 0.5em 0.4em;box-sizing: border-box;padding-bottom: 0.4em;background-color: white;position: relative;}#sk-92bca7e3-049a-48cf-b6d0-855c8c36c26c div.sk-label label {font-family: monospace;font-weight: bold;background-color: white;display: inline-block;line-height: 1.2em;}#sk-92bca7e3-049a-48cf-b6d0-855c8c36c26c div.sk-label-container {position: relative;z-index: 2;text-align: center;}#sk-92bca7e3-049a-48cf-b6d0-855c8c36c26c div.sk-container {/* jupyter's `normalize.less` sets `[hidden] { display: none; }` but bootstrap.min.css set `[hidden] { display: none !important; }` so we also need the `!important` here to be able to override the default hidden behavior on the sphinx rendered scikit-learn.org. See: https://github.com/scikit-learn/scikit-learn/issues/21755 */display: inline-block !important;position: relative;}#sk-92bca7e3-049a-48cf-b6d0-855c8c36c26c div.sk-text-repr-fallback {display: none;}</style><div id=\"sk-92bca7e3-049a-48cf-b6d0-855c8c36c26c\" class=\"sk-top-container\"><div class=\"sk-text-repr-fallback\"><pre>ColumnTransformer(transformers=[(&#x27;pipeline-1&#x27;,\n",
              "                                 Pipeline(steps=[(&#x27;simpleimputer&#x27;,\n",
              "                                                  SimpleImputer()),\n",
              "                                                 (&#x27;standardscaler&#x27;,\n",
              "                                                  StandardScaler())]),\n",
              "                                 &lt;sklearn.compose._column_transformer.make_column_selector object at 0x7f83bd6295d0&gt;),\n",
              "                                (&#x27;pipeline-2&#x27;,\n",
              "                                 Pipeline(steps=[(&#x27;simpleimputer&#x27;,\n",
              "                                                  SimpleImputer(strategy=&#x27;most_frequent&#x27;)),\n",
              "                                                 (&#x27;onehotencoder&#x27;,\n",
              "                                                  OneHotEncoder(handle_unknown=&#x27;ignore&#x27;,\n",
              "                                                                sparse=False))]),\n",
              "                                 &lt;sklearn.compose._column_transformer.make_column_selector object at 0x7f83bd6296d0&gt;)])</pre><b>Please rerun this cell to show the HTML repr or trust the notebook.</b></div><div class=\"sk-container\" hidden><div class=\"sk-item sk-dashed-wrapped\"><div class=\"sk-label-container\"><div class=\"sk-label sk-toggleable\"><input class=\"sk-toggleable__control sk-hidden--visually\" id=\"9cff6324-3839-4b81-8b8c-65bbee70d846\" type=\"checkbox\" ><label for=\"9cff6324-3839-4b81-8b8c-65bbee70d846\" class=\"sk-toggleable__label sk-toggleable__label-arrow\">ColumnTransformer</label><div class=\"sk-toggleable__content\"><pre>ColumnTransformer(transformers=[(&#x27;pipeline-1&#x27;,\n",
              "                                 Pipeline(steps=[(&#x27;simpleimputer&#x27;,\n",
              "                                                  SimpleImputer()),\n",
              "                                                 (&#x27;standardscaler&#x27;,\n",
              "                                                  StandardScaler())]),\n",
              "                                 &lt;sklearn.compose._column_transformer.make_column_selector object at 0x7f83bd6295d0&gt;),\n",
              "                                (&#x27;pipeline-2&#x27;,\n",
              "                                 Pipeline(steps=[(&#x27;simpleimputer&#x27;,\n",
              "                                                  SimpleImputer(strategy=&#x27;most_frequent&#x27;)),\n",
              "                                                 (&#x27;onehotencoder&#x27;,\n",
              "                                                  OneHotEncoder(handle_unknown=&#x27;ignore&#x27;,\n",
              "                                                                sparse=False))]),\n",
              "                                 &lt;sklearn.compose._column_transformer.make_column_selector object at 0x7f83bd6296d0&gt;)])</pre></div></div></div><div class=\"sk-parallel\"><div class=\"sk-parallel-item\"><div class=\"sk-item\"><div class=\"sk-label-container\"><div class=\"sk-label sk-toggleable\"><input class=\"sk-toggleable__control sk-hidden--visually\" id=\"18fae518-27c7-45cf-a288-328dda0c5909\" type=\"checkbox\" ><label for=\"18fae518-27c7-45cf-a288-328dda0c5909\" class=\"sk-toggleable__label sk-toggleable__label-arrow\">pipeline-1</label><div class=\"sk-toggleable__content\"><pre>&lt;sklearn.compose._column_transformer.make_column_selector object at 0x7f83bd6295d0&gt;</pre></div></div></div><div class=\"sk-serial\"><div class=\"sk-item\"><div class=\"sk-serial\"><div class=\"sk-item\"><div class=\"sk-estimator sk-toggleable\"><input class=\"sk-toggleable__control sk-hidden--visually\" id=\"11472f0f-cbde-4015-a587-96784f482981\" type=\"checkbox\" ><label for=\"11472f0f-cbde-4015-a587-96784f482981\" class=\"sk-toggleable__label sk-toggleable__label-arrow\">SimpleImputer</label><div class=\"sk-toggleable__content\"><pre>SimpleImputer()</pre></div></div></div><div class=\"sk-item\"><div class=\"sk-estimator sk-toggleable\"><input class=\"sk-toggleable__control sk-hidden--visually\" id=\"5786f906-dd69-4622-b5a8-e9fee6bedfa5\" type=\"checkbox\" ><label for=\"5786f906-dd69-4622-b5a8-e9fee6bedfa5\" class=\"sk-toggleable__label sk-toggleable__label-arrow\">StandardScaler</label><div class=\"sk-toggleable__content\"><pre>StandardScaler()</pre></div></div></div></div></div></div></div></div><div class=\"sk-parallel-item\"><div class=\"sk-item\"><div class=\"sk-label-container\"><div class=\"sk-label sk-toggleable\"><input class=\"sk-toggleable__control sk-hidden--visually\" id=\"649ee916-c5c9-4b85-b44a-1d2dbfd43a9c\" type=\"checkbox\" ><label for=\"649ee916-c5c9-4b85-b44a-1d2dbfd43a9c\" class=\"sk-toggleable__label sk-toggleable__label-arrow\">pipeline-2</label><div class=\"sk-toggleable__content\"><pre>&lt;sklearn.compose._column_transformer.make_column_selector object at 0x7f83bd6296d0&gt;</pre></div></div></div><div class=\"sk-serial\"><div class=\"sk-item\"><div class=\"sk-serial\"><div class=\"sk-item\"><div class=\"sk-estimator sk-toggleable\"><input class=\"sk-toggleable__control sk-hidden--visually\" id=\"54e04c25-ab98-4288-99ba-07e674e14506\" type=\"checkbox\" ><label for=\"54e04c25-ab98-4288-99ba-07e674e14506\" class=\"sk-toggleable__label sk-toggleable__label-arrow\">SimpleImputer</label><div class=\"sk-toggleable__content\"><pre>SimpleImputer(strategy=&#x27;most_frequent&#x27;)</pre></div></div></div><div class=\"sk-item\"><div class=\"sk-estimator sk-toggleable\"><input class=\"sk-toggleable__control sk-hidden--visually\" id=\"a78aa3e4-1e58-46ab-8982-2f636bd8f432\" type=\"checkbox\" ><label for=\"a78aa3e4-1e58-46ab-8982-2f636bd8f432\" class=\"sk-toggleable__label sk-toggleable__label-arrow\">OneHotEncoder</label><div class=\"sk-toggleable__content\"><pre>OneHotEncoder(handle_unknown=&#x27;ignore&#x27;, sparse=False)</pre></div></div></div></div></div></div></div></div></div></div></div></div>"
            ]
          },
          "metadata": {},
          "execution_count": 25
        }
      ]
    },
    {
      "cell_type": "code",
      "source": [
        "# transform train and test\n",
        "X_train_processed = preprocessor.transform(X_train)\n",
        "X_test_processed = preprocessor.transform(X_test)\n",
        "\n"
      ],
      "metadata": {
        "id": "rFiRJJO7D58W"
      },
      "execution_count": 26,
      "outputs": []
    },
    {
      "cell_type": "markdown",
      "source": [
        "*Utilizar el objeto de preprocesamiento para transformar los datos de manera adecuada, evitar la fuga de datos para dejarlos listos para el modelado."
      ],
      "metadata": {
        "id": "qQ4225Qp-v7f"
      }
    },
    {
      "cell_type": "markdown",
      "source": [
        "*Muestren los arrays de NumPy resultantes."
      ],
      "metadata": {
        "id": "5scyRtL5-zN8"
      }
    },
    {
      "cell_type": "code",
      "source": [
        "#Inspeccionar el resultado\n",
        "# Comprueben los valores faltantes y que los datos se escalen y tengan una codificación one-hot\n",
        "print(np.isnan(X_train_processed).sum().sum(), 'missing values in training data')\n",
        "print(np.isnan(X_test_processed).sum().sum(), 'missing values in testing data')\n",
        "print('\\n')\n",
        "print('All data in X_train_processed are', X_train_processed.dtype)\n",
        "print('All data in X_test_processed are', X_test_processed.dtype)\n",
        "print('\\n')\n",
        "print('shape of data is', X_train_processed.shape)\n",
        "print('\\n')\n",
        "X_train_processed\n",
        "\n"
      ],
      "metadata": {
        "colab": {
          "base_uri": "https://localhost:8080/"
        },
        "id": "QX_WNhmSD-dX",
        "outputId": "7661fad7-6aad-46bf-c9e8-e3adb30203ef"
      },
      "execution_count": 27,
      "outputs": [
        {
          "output_type": "stream",
          "name": "stdout",
          "text": [
            "0 missing values in training data\n",
            "0 missing values in testing data\n",
            "\n",
            "\n",
            "All data in X_train_processed are float64\n",
            "All data in X_test_processed are float64\n",
            "\n",
            "\n",
            "shape of data is (57, 77)\n",
            "\n",
            "\n"
          ]
        },
        {
          "output_type": "execute_result",
          "data": {
            "text/plain": [
              "array([[-1.30301442, -0.97467943,  0.56162348, ...,  0.        ,\n",
              "         1.        ,  0.        ],\n",
              "       [ 0.40438378,  0.        ,  0.68120871, ...,  0.        ,\n",
              "         1.        ,  0.        ],\n",
              "       [ 0.40438378, -0.97467943,  1.99664622, ...,  0.        ,\n",
              "         1.        ,  0.        ],\n",
              "       ...,\n",
              "       [ 1.25808288,  1.94935887, -0.03630266, ...,  1.        ,\n",
              "         1.        ,  0.        ],\n",
              "       [ 0.40438378,  0.97467943, -0.15588789, ...,  0.        ,\n",
              "         1.        ,  0.        ],\n",
              "       [ 0.40438378,  0.        ,  0.08328257, ...,  0.        ,\n",
              "         1.        ,  0.        ]])"
            ]
          },
          "metadata": {},
          "execution_count": 27
        }
      ]
    }
  ]
}